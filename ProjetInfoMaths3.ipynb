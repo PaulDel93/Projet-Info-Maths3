{
 "cells": [
  {
   "cell_type": "code",
   "execution_count": null,
   "metadata": {},
   "outputs": [],
   "source": []
  },
  {
   "cell_type": "markdown",
   "metadata": {},
   "source": [
    "# Question théoriques"
   ]
  },
  {
   "cell_type": "markdown",
   "metadata": {},
   "source": [
    "L'estimation proposée provient de la loi forte des grands nombres.\n",
    "\n",
    "\n",
    "On note $Y$ les composantes de $Z$ des profondeurs connus et X les inconnues\n",
    "On a pour un vecteur $x$ de profondeurs\n",
    "$$f_Z = f_{Y|X=x} f_X,$$\n",
    "\n",
    "$C$ peut se décomposer en blocs :  \n",
    "$$C=\\begin{pmatrix}\n",
    "   C_Y & C_{Y,X} \\\\\n",
    "   C_{X,Y} & C_X \n",
    "\\end{pmatrix}$$\n",
    "\n",
    "où $C_Y = Cov(Y,Y)$, $C_X = Cov(X,X)$, $ C_{X,Y}=Cov(X,Y)$ et $C_{Y,X} = Cov(Y,X)$.\n",
    "\n",
    "C'est-à-dire que la variable aléatoire $Y|X=x$ est gaussienne d'espérance $$m_{Y|X=x} = m_Y + C_{Y,X}C_X^{-1}(x-m_X)$$ et de matrice de covariance $$CS_Y = C_Y - C_{Y,X}C_X^{-1}C_{X,Y}$$. Autrement dit, l'espérance conditionnelle de $Y$ sachant $X$ est la variable aléatoire $E(Y|X) =(m_Y + C_{Y,X}C_X^{-1}(X-m_X))$.\n",
    "\n",
    "\n",
    "Pour déterminer la loi de ce vecteur aléatoire un va utiliser la fonction caractéristique\n",
    "Pour la variable Z=m+RY on a pour tout u vecteur de $\\mathbf{R}^{d}$\n",
    "$$ \\Phi_{m+RY}(u)=e^{i<u,m>}\\Phi_{Y}(R^{t}u)$$\n",
    "\n",
    "donc comme Y suit une loi normale centrée réduite\n",
    "\n",
    "$$ \\Phi_{m+RY}(u)=exp(i<u,m>-\\frac{\\|R^{t}u \\|}{2})$$\n",
    "Soit\n",
    "$$ \\Phi_{m+RY}(u)=exp(i<u,m>-\\frac{<R^{t}u,R^{t}u>}{2})$$\n",
    "En utilisant l'adjoint de la matrice $R^{t}$, noté $R^{t*}$,\n",
    "On obtient que\n",
    "$$ \\Phi_{m+RY}(u)=exp(i<u,m>-\\frac{<u,R^{t*}R^{t}u>}{2})$$\n",
    "on obtient puisque la fonction caractéristique caractérise la loi que la varaiable $Z$ suit une loi normale d'espérance $m$ et de matrice de covariance $R^{t*}R^{t}$\n",
    "\n",
    "\n",
    "\n",
    "Pour simuler une $Z$ une variable aléatoire suivant une loi normale de matrice de covaiance $C$ et d'espérance $m$ on écrit la décompositionde Choleski de C. On dispose d'une matrice triangulaire supérieure $L$ tel que $C=LL^{t}$. Alors le vecteur $Z$ peut s'écrire $Z=m+LY$ où $Y$ suit une loi normale centrée réduite. $Z$ est donc décomposée selon la forme attendue par la question 3"
   ]
  },
  {
   "cell_type": "markdown",
   "metadata": {},
   "source": [
    "# Questions"
   ]
  },
  {
   "cell_type": "code",
   "execution_count": 1,
   "metadata": {},
   "outputs": [],
   "source": [
    "#Paramètres\n",
    "\n",
    "import numpy as np\n",
    "import matplotlib.pyplot as plt\n",
    "import math\n",
    "A=0\n",
    "B=500\n",
    "N=101\n",
    "Delta=(B-A)/(N-1)\n",
    "discretization_indexes=np.arange(N)\n",
    "discretization=discretization_indexes*Delta\n",
    "\n",
    "mu=-5\n",
    "a=50\n",
    "sigma2=12\n",
    "observation_indexes=[0,20,40,60,80,100]\n",
    "depth=np.array([0,-4,-12.8,-1,-6.5,0])\n",
    "unknown_indexes=list(set(discretization_indexes)-set(observation_indexes))"
   ]
  },
  {
   "cell_type": "code",
   "execution_count": 8,
   "metadata": {},
   "outputs": [],
   "source": [
    "#1\n",
    "def C(h,a,sigma2):\n",
    "    return sigma2*np.exp(-np.abs(h)/a)\n",
    "\n",
    "def Cov(d,a,sigma2):\n",
    "    return C(np.abs(d),a,sigma2)\n",
    "\n"
   ]
  },
  {
   "cell_type": "code",
   "execution_count": 3,
   "metadata": {},
   "outputs": [],
   "source": [
    "#2\n",
    "Mdistance=np.zeros((N,N))\n",
    "for i in range (N):\n",
    "    for j in range(N):\n",
    "        Mdistance[i,j]= np.abs(discretization[i]-discretization[j])"
   ]
  },
  {
   "cell_type": "code",
   "execution_count": 9,
   "metadata": {},
   "outputs": [],
   "source": [
    "#3\n",
    "Mcov=np.zeros((N,N))\n",
    "for i in range(N):\n",
    "    for j in range(N):\n",
    "        Mcov[i,j]=Cov((discretization[i]-discretization[j]),a,sigma2)"
   ]
  },
  {
   "cell_type": "code",
   "execution_count": 10,
   "metadata": {},
   "outputs": [],
   "source": [
    "#4\n",
    "def extraction (M,indice1,indice2):\n",
    "    N1=len(indice1)\n",
    "    N2=len(indice2)\n",
    "    Mat=np.zeros((N1,N2))\n",
    "    for i in range (N1):\n",
    "        for j in range (N2):\n",
    "            Mat[i,j]=M[indice1[i],indice2[j]]\n",
    "    return Mat\n",
    "\n"
   ]
  },
  {
   "cell_type": "code",
   "execution_count": 11,
   "metadata": {},
   "outputs": [],
   "source": [
    "#4\n",
    "C_known_known=extraction(Mcov,observation_indexes,observation_indexes)\n",
    "C_known_unknown=extraction(Mcov,observation_indexes,unknown_indexes)\n",
    "C_unknown_unknown=extraction(Mcov,unknown_indexes,unknown_indexes)\n",
    "C_unknown_known=extraction(Mcov,unknown_indexes,observation_indexes)"
   ]
  },
  {
   "cell_type": "code",
   "execution_count": 12,
   "metadata": {},
   "outputs": [],
   "source": [
    "#5\n",
    "#On utilise ici les résulats de la question théorique 2 où la varaible Y correspond aux pronfondeurs\n",
    "#connus et X aux inconnus\n",
    "\n",
    "CY=C_unknown_unknown\n",
    "CX=C_known_known\n",
    "CXY=C_known_unknown\n",
    "CYX=C_unknown_known\n",
    "\n",
    "#On définit les dimensions de X et Y\n",
    "\n",
    "nX=len(observation_indexes)\n",
    "nY=N-nX\n",
    "\n",
    "# Et les vecteurs epérances\n",
    "\n",
    "m=np.array([mu for i in range(N)])\n",
    "mY=np.array([mu for i in range(nY)])\n",
    "mX=np.array([mu for i in range(nX)])\n",
    "\n",
    "#Puis on sait que la variable Y|X=x suit une une loi normale de paramètre mYx et de covariance CSY\n",
    "\n",
    "x=depth\n",
    "mYx=mY-np.dot(CYX,np.dot(np.linalg.inv(CX),(mX-x)))\n",
    "CSY=CY-np.dot(CYX,np.dot(np.linalg.inv(CX),CXY))"
   ]
  },
  {
   "cell_type": "code",
   "execution_count": 13,
   "metadata": {},
   "outputs": [
    {
     "name": "stdout",
     "output_type": "stream",
     "text": [
      "[  0.          -0.46688335  -0.88839774  -1.26876184  -1.61178245\n",
      "  -1.92089264  -2.19918609  -2.44944805  -2.67418323  -2.87564085\n",
      "  -3.05583718  -3.21657567  -3.35946505  -3.4859354   -3.59725249\n",
      "  -3.69453041  -3.77874275  -3.85073233  -3.91121966  -3.96081011\n",
      "  -4.          -4.31432093  -4.62177936  -4.92545243  -5.2283794\n",
      "  -5.53359206  -5.8441451   -6.16314662  -6.49378931  -6.83938234\n",
      "  -7.20338453  -7.58943893  -8.00140931  -8.4434188   -8.91989118\n",
      "  -9.43559515  -9.99569205 -10.60578751 -11.27198758 -12.00095981\n",
      " -12.8        -11.91810571 -11.10545015 -10.35389999  -9.65593346\n",
      "  -9.00456508  -8.39327573  -7.81594742  -7.26680206  -6.74034362\n",
      "  -6.23130312  -5.73458592  -5.2452207   -4.75830973  -4.26897984\n",
      "  -3.77233366  -3.26340058  -2.73708703  -2.18812549  -1.61102176\n",
      "  -1.          -1.43702815  -1.83839689  -2.20812324  -2.54990754\n",
      "  -2.8671705   -3.16308739  -3.44061983  -3.70254547  -3.95148576\n",
      "  -4.18993216  -4.42027113  -4.64480797  -4.86578994  -5.08542869\n",
      "  -5.30592243  -5.52947795  -5.75833267  -5.99477703  -6.24117745\n",
      "  -6.5         -6.21355942  -5.93926455  -5.67437016  -5.41622509\n",
      "  -5.16224574  -4.9098902   -4.65663281  -4.39993889  -4.13723936\n",
      "  -3.86590502  -3.58322028  -3.28635594  -2.97234087  -2.6380323\n",
      "  -2.28008437  -1.89491461  -1.47866811  -1.02717893  -0.53592843\n",
      "   0.        ]\n"
     ]
    },
    {
     "data": {
      "image/png": "[encoded data removed]",
      "text/plain": [
       "<Figure size 432x288 with 1 Axes>"
      ]
     },
     "metadata": {
      "needs_background": "light"
     },
     "output_type": "display_data"
    }
   ],
   "source": [
    "#on va crée une liste qui donne les profondeurs estimées et mesurées. Pour cela on\n",
    "#on distingue si l'indice est dans les indices observés ou pas (on introduit pour ce faire deux\n",
    "#compteurs T et K)\n",
    "Fond=np.zeros(N)\n",
    "T=0\n",
    "K=0\n",
    "for i in range (N):\n",
    "    if i in observation_indexes:\n",
    "        Fond[i]=depth[T]\n",
    "        T+=1\n",
    "    else :\n",
    "        Fond[i]=mYx[K]\n",
    "        K+=1\n",
    "print(Fond)\n",
    "plt.figure()\n",
    "plt.plot(discretization,Fond)\n",
    "plt.show()"
   ]
  },
  {
   "cell_type": "code",
   "execution_count": 14,
   "metadata": {},
   "outputs": [
    {
     "data": {
      "image/png": "[encoded data removed]",
      "text/plain": [
       "<Figure size 432x288 with 1 Axes>"
      ]
     },
     "metadata": {
      "needs_background": "light"
     },
     "output_type": "display_data"
    }
   ],
   "source": [
    "#6\n",
    "#La matrice de cov conditionnelle a déjà été calculé c'est CSY\n",
    "CSY=CY-np.dot(CYX,np.dot(np.linalg.inv(CX),CXY))\n",
    "Var=np.array([CSY[i,i] for i in range (len(CSY))])\n",
    "\n",
    "plt.figure()\n",
    "plt.plot(np.array(unknown_indexes),Var)\n",
    "plt.show()\n",
    "\n",
    "#On constate que la variance devient de plus en plus grande à mesure que l'on s'éloigne\n",
    "#des valeurs mesurées."
   ]
  },
  {
   "cell_type": "code",
   "execution_count": 15,
   "metadata": {},
   "outputs": [
    {
     "data": {
      "image/png": "[encoded data removed]",
      "text/plain": [
       "<Figure size 432x288 with 1 Axes>"
      ]
     },
     "metadata": {
      "needs_background": "light"
     },
     "output_type": "display_data"
    }
   ],
   "source": [
    "#7\n",
    "#On écrit une fonction Simu() qui effectue la simulation conditionelle\n",
    "def Simu():\n",
    "    #Simulation d'une loi gaussienne à partir de deux variables suivant une uniforme\n",
    "    U=np.random.uniform(0,1,nY)\n",
    "    V=np.random.uniform(0,1,nY)\n",
    "    Y=np.sqrt(-2*np.log(U))*np.cos(2*np.pi*V)\n",
    "    #On utilise la méthode de la question 4 avec la décomposition de Choleski\n",
    "    L=np.linalg.cholesky(CSY)\n",
    "    Z=mYx+np.dot(L,Y)\n",
    "    #A nouveau il faut le vecteur complet observation et estimations, on réutilise deux compteurs.\n",
    "    Zf=np.zeros(N)\n",
    "    T=0\n",
    "    K=0\n",
    "    for i in range (N):\n",
    "        if i in observation_indexes:\n",
    "            Zf[i]=depth[T]\n",
    "            T+=1\n",
    "        else :\n",
    "            Zf[i]=Z[K]\n",
    "            K+=1\n",
    "    return Zf\n",
    "plt.figure()\n",
    "plt.plot(discretization,Simu())\n",
    "plt.plot(discretization,Fond)\n",
    "plt.show()\n"
   ]
  },
  {
   "cell_type": "code",
   "execution_count": 16,
   "metadata": {},
   "outputs": [],
   "source": [
    "#8\n",
    "def L(X,Delta):\n",
    "    S=0\n",
    "    for i in range (1,len(X)):\n",
    "        S+=np.sqrt(Delta**2 +(X[i]-X[i-1])**2)\n",
    "    return S"
   ]
  },
  {
   "cell_type": "code",
   "execution_count": 18,
   "metadata": {},
   "outputs": [
    {
     "name": "stdout",
     "output_type": "stream",
     "text": [
      "522.0603121810692\n"
     ]
    }
   ],
   "source": [
    "#9\n",
    "\n",
    "#La fonction suivante renvoie une longueur de cable calculée avec la moyenne de n simulation\n",
    "def SimuLongueur(n):\n",
    "    l=np.zeros(n)\n",
    "    for i in range (n):\n",
    "        X=Simu()\n",
    "        l[i]=L(X,Delta)\n",
    "    return np.sum(np.array(l))/len(l)\n",
    "\n",
    "#On illustre le résultat avec 100 simulation\n",
    "\n",
    "\n",
    "print (SimuLongueur(100))"
   ]
  },
  {
   "cell_type": "code",
   "execution_count": 22,
   "metadata": {},
   "outputs": [
    {
     "name": "stderr",
     "output_type": "stream",
     "text": [
      "/srv/conda/envs/notebook/lib/python3.6/site-packages/ipykernel_launcher.py:9: RuntimeWarning: invalid value encountered in double_scalars\n",
      "  if __name__ == '__main__':\n"
     ]
    },
    {
     "data": {
      "image/png": "[encoded data removed]",
      "text/plain": [
       "<Figure size 432x288 with 1 Axes>"
      ]
     },
     "metadata": {
      "needs_background": "light"
     },
     "output_type": "display_data"
    }
   ],
   "source": [
    "#10\n",
    "\n",
    "#On représente la suite des moyennes longueurs simulées jusqu'au rang n\n",
    "\n",
    "def SuiteLongueurs(n):\n",
    "    ly=np.zeros(n)\n",
    "    for k in range (n):\n",
    "        ly[k]=SimuLongueur(k)\n",
    "    return ly\n",
    "\n",
    "lx=np.arange(50)\n",
    "plt.figure()\n",
    "plt.plot(lx,SuiteLongueurs(50))\n",
    "plt.show()\n",
    "\n",
    "#On constate alors que plus le nombre de simulation est grand plus la moyenne observée\n",
    "#se rapproche d'une valeur de convergence. C'est une illustration de la loi forte des grand nombre."
   ]
  },
  {
   "cell_type": "code",
   "execution_count": null,
   "metadata": {},
   "outputs": [],
   "source": [
    "#11\n",
    "#La fonction suivante va générer k simulation\n",
    "def GenerationLongueurs(k):\n",
    "    l=np.zeros(k)\n",
    "    for i in range (k):\n",
    "        X=Simu()\n",
    "        l[i]=L(X,Delta)\n",
    "    return l\n",
    "\n",
    "#On représente alors l'histogramme de ces k simulations avec\n",
    "#200 intervalle entre 500 et 540 mètres. Ici pour k=10000\n",
    "\n",
    "ly=GenerationLongueurs(1000)\n",
    "bin=200\n",
    "histo=plt.hist(ly,range=(500,540),bins=bin)\n",
    "plt.show()\n"
   ]
  },
  {
   "cell_type": "code",
   "execution_count": null,
   "metadata": {},
   "outputs": [],
   "source": [
    "#12\n",
    "#Méthode 1 \n",
    "#On identifie tout d'abord dans l'histogramme quel est lindice de l'intervalle possédant\n",
    "#le plus d'occurences que l'on identifiera à la moyenne. Ensuite, on se déplacera d'intervalle en intervalle\n",
    "#jusqu'à ce que la probabilité de présence dans l'intervalle ddiscret soit < 0.05\n",
    "\n",
    "#On code d'abord une fonction indiceMax pour trouver l'intervalle de la moyenne observée\n",
    "def indiceMax(occurences):\n",
    "    index=0\n",
    "    for i in range(len(occurences)):\n",
    "        if occurences[i]>occurences[index]:\n",
    "            index=i\n",
    "    return index\n",
    "\n",
    "def intervalleConfiance1(n):\n",
    "    #On génère l'histogramme\n",
    "    l=GenerationLongueurs(n)\n",
    "    bin=200\n",
    "    histo=plt.hist(l,range=(500,540),bins=bin)\n",
    "    occurences=histo[0]\n",
    "    #On initialise les indices limites de l'intervalle de confiance au niveau de la moyenne\n",
    "    indexM=indiceMax(occurences)\n",
    "    indexm=indiceMax(occurences)\n",
    "    proba=1\n",
    "    #On avance \"à droite\" de la moyenne jusqu'à ce que la probabilité soit <0.05\n",
    "    while proba > 0.05:\n",
    "        indexM+=1\n",
    "        proba=histo[0][indexM]/n\n",
    "    index_max=indexM-1\n",
    "    proba=1\n",
    "    #On avance \"à gauche\" de la moyenne jusqu'à ce que la probabilité soit <0.05\n",
    "    while proba > 0.05:\n",
    "        indexm-=1\n",
    "        proba=histo[0][indexm]/n\n",
    "    index_min=indexm-1\n",
    "    #On donne l'intervalle correrspondant au indices de l'histogramme trouvé\n",
    "    return [histo[1][index_min],histo[1][index_max]]\n",
    "\n",
    "#Méthode 2\n",
    "#Celle-ci consiste à utiliser directement la formule de l'intervalle de confiance pour n variables\n",
    "#aléatoires suivant une loi gaussienne.\n",
    "\n",
    "def intervalleConfiance2(n):\n",
    "    Moyenne=SimuLongueur(n)\n",
    "    #On fait d'abord une estimation de l'écart type.\n",
    "    EcartType=np.sqrt(sum([(x-Moyenne)**2 for x in GenerationLongueurs(n)])/n)\n",
    "    print(EcartType)\n",
    "    return np.array([Moyenne -1.96*EcartType/np.sqrt(n),Moyenne+1.96*EcartType/np.sqrt(n)])\n",
    "\n",
    "#Pour une valeur de n fixé la méthode 2 donne un intervalle de confiance autour de la moyenne beaucoup plus précis"
   ]
  },
  {
   "cell_type": "code",
   "execution_count": null,
   "metadata": {},
   "outputs": [],
   "source": [
    "#13\n",
    "#On estime cette probabilité pour 10000 lancers\n",
    "n=10000\n",
    "S=0\n",
    "for i in range (n):\n",
    "    a=Simu()\n",
    "    if L(a,Delta)>525:\n",
    "        S+=1\n",
    "print(S/n)\n"
   ]
  },
  {
   "cell_type": "code",
   "execution_count": null,
   "metadata": {},
   "outputs": [],
   "source": [
    "#14\n",
    "#On simule pour différentes valeurs de n\n",
    "\n",
    "n=1000\n",
    "\n",
    "#Longueurs moyenne pour n\n",
    "\n",
    "print (SimuLongueur(n))\n",
    "\n",
    "#Suite des moyennes de longuerus\n",
    "\n",
    "lx=np.arange(n)\n",
    "plt.figure()\n",
    "plt.plot(lx,SuiteLongueurs(n))\n",
    "plt.show()\n",
    "\n",
    "#histogramme pour n donné\n",
    "\n",
    "ly=GenerationLongueurs(n)\n",
    "bin=200\n",
    "histo=plt.hist(ly,range=(500,540),bins=bin)\n",
    "plt.show()\n",
    "\n",
    "#intervalle de confiance\n",
    "\n",
    "print(intervalleConfiance1(n))\n",
    "print(intervalleConfiance2(n))"
   ]
  }
 ],
 "metadata": {
  "kernelspec": {
   "display_name": "Python 3",
   "language": "python",
   "name": "python3"
  },
  "language_info": {
   "codemirror_mode": {
    "name": "ipython",
    "version": 3
   },
   "file_extension": ".py",
   "mimetype": "text/x-python",
   "name": "python",
   "nbconvert_exporter": "python",
   "pygments_lexer": "ipython3",
   "version": "3.6.7"
  }
 },
 "nbformat": 4,
 "nbformat_minor": 4
}
